{
  "nbformat": 4,
  "nbformat_minor": 0,
  "metadata": {
    "colab": {
      "provenance": [],
      "authorship_tag": "ABX9TyOvb0v7jx75l9HKpRRPRUn6",
      "include_colab_link": true
    },
    "kernelspec": {
      "name": "python3",
      "display_name": "Python 3"
    },
    "language_info": {
      "name": "python"
    }
  },
  "cells": [
    {
      "cell_type": "markdown",
      "metadata": {
        "id": "view-in-github",
        "colab_type": "text"
      },
      "source": [
        "<a href=\"https://colab.research.google.com/github/iMan0405/iMan0405/blob/main/Ma'lumotlar_tuzilmasi_va_algoritm_Selection_sort.ipynb\" target=\"_parent\"><img src=\"https://colab.research.google.com/assets/colab-badge.svg\" alt=\"Open In Colab\"/></a>"
      ]
    },
    {
      "cell_type": "code",
      "execution_count": 2,
      "metadata": {
        "colab": {
          "base_uri": "https://localhost:8080/"
        },
        "id": "54UIfLE6xzLx",
        "outputId": "3556bce0-3b70-4437-ba80-76ad85c4126e"
      },
      "outputs": [
        {
          "output_type": "stream",
          "name": "stdout",
          "text": [
            "[9, 8, 7, 5, 4, 2, 1]\n"
          ]
        }
      ],
      "source": [
        "lista = [4, 1, 5, 2, 7, 8, 9]\n",
        "change = []\n",
        "\n",
        "def maxlist(n):\n",
        "    for s in lista:\n",
        "        if n < s:\n",
        "            n = s\n",
        "    return n\n",
        "def sort(lista):\n",
        "    while lista:\n",
        "        max_val = maxlist(lista[0])\n",
        "        change.append(max_val)\n",
        "        lista.remove(max_val)\n",
        "\n",
        "sort(lista)\n",
        "print(change)"
      ]
    }
  ]
}